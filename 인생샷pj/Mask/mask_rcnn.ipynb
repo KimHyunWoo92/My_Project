{
 "cells": [
  {
   "cell_type": "code",
   "execution_count": null,
   "metadata": {},
   "outputs": [],
   "source": [
    "import math\n",
    "import re\n",
    "import time\n",
    "import numpy as np\n",
    "from PIL import Image,ImageOps\n",
    "from torch.autograd import Variable\n",
    "from torchvision import datasets\n",
    "import torch.nn as nn\n",
    "import torch.nn.functional as F\n",
    "import torchvision.models as models\n",
    "import torchvision.transforms as transforms"
   ]
  },
  {
   "cell_type": "code",
   "execution_count": null,
   "metadata": {},
   "outputs": [],
   "source": [
    "#resnet backbone\n",
    "class Test:\n",
    "    \n",
    "    def __init__(self,):\n",
    "        self.input_image = self.get_image()\n",
    "        self.feature_map = None\n",
    "        \n",
    "    def get_image(self):\n",
    "        image_path = \"파일경로 입력\"\n",
    "        img = Image.open(image_path).convert(\"RGB\")\n",
    "        \n",
    "        preprocess = transforms.Compose([\n",
    "            transforms.ToTensor(),\n",
    "            transforms.Normalize(mean=[0.485,0.456,0.406],std=[0.299,0.224,0.225])\n",
    "        ])\n",
    "        img_tensor = preprocess(img)\n",
    "        img_tensor = img_tensor.unsqueeze(0)\n",
    "        \n",
    "        return img_tensor\n",
    "    \n",
    "    \n",
    "    def resnet50(self):\n",
    "        feature_map = None\n",
    "        resnet50_m = models.resnet50(pretrained=True)\n",
    "        \n",
    "        model_to_layer4 = torch.nn.Sequential(*list(resnet50_m.children()))\n",
    "\n",
    "        with torch.no_grad():\n",
    "            model_to_layer4.eval()\n",
    "            self.feature_map = model_to_layer4(self.input_image)\n",
    "            \n",
    "        return feature_map"
   ]
  },
  {
   "cell_type": "code",
   "execution_count": null,
   "metadata": {},
   "outputs": [],
   "source": [
    "class RPN:\n",
    "    \n",
    "    def __init__(self):\n",
    "        super(RPN,self).__init__()\n",
    "        \n",
    "        self."
   ]
  }
 ],
 "metadata": {
  "language_info": {
   "name": "python"
  }
 },
 "nbformat": 4,
 "nbformat_minor": 2
}
